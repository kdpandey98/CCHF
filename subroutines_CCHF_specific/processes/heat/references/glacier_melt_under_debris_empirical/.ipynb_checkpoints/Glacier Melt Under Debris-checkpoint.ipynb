{
 "cells": [
  {
   "cell_type": "markdown",
   "metadata": {},
   "source": [
    "Kraaijenbrink et al. (2017) compiled data on the impact of debris cover on glacier melt (Fig. S5).\n",
    "\n",
    "<img src=\"./images/nature23878-s1_debris_impact.PNG\" style=\"width: 500px;\"/>\n",
    "Full Reference:\n",
    "Kraaijenbrink, P. D. A., Bierkens, M. F. P., Lutz, A. F., & Immerzeel, W. W. (2017). Impact of a global temperature rise of 1.5 degrees Celsius on Asia’s glaciers. Nature, 549(7671), 257–260. https://doi.org/10.1038/nature23878\n",
    "\n",
    "The black line is the average of their findings. The purpose of this workbook is to identify an analytical function that approximates the black line."
   ]
  },
  {
   "cell_type": "markdown",
   "metadata": {
    "collapsed": true
   },
   "source": [
    "The first step in this process is using the data scraper https://apps.automeris.io/wpd/\n",
    "The output is a CSV file of data points along the black line."
   ]
  },
  {
   "cell_type": "code",
   "execution_count": 1,
   "metadata": {
    "collapsed": true
   },
   "outputs": [],
   "source": [
    "import numpy as np\n",
    "\n",
    "from numpy import genfromtxt\n",
    "debris_data = genfromtxt('./data/debris_cover_melt_impact_Kraaijenbrink.csv', delimiter=',')"
   ]
  },
  {
   "cell_type": "code",
   "execution_count": 2,
   "metadata": {
    "collapsed": true
   },
   "outputs": [],
   "source": [
    "x = debris_data[:,1]\n",
    "y_obs = debris_data[:,0]"
   ]
  },
  {
   "cell_type": "markdown",
   "metadata": {},
   "source": [
    "Plot data:"
   ]
  },
  {
   "cell_type": "code",
   "execution_count": 3,
   "metadata": {},
   "outputs": [
    {
     "data": {
      "text/plain": [
       "[<matplotlib.lines.Line2D at 0x10f6ba9b0>]"
      ]
     },
     "execution_count": 3,
     "metadata": {},
     "output_type": "execute_result"
    },
    {
     "data": {
      "image/png": "[encoded data removed]",
      "text/plain": [
       "<matplotlib.figure.Figure at 0x10c9464e0>"
      ]
     },
     "metadata": {},
     "output_type": "display_data"
    }
   ],
   "source": [
    "import matplotlib.pyplot as plt\n",
    "%matplotlib inline\n",
    "\n",
    "plt.plot(x, y_obs)"
   ]
  },
  {
   "cell_type": "markdown",
   "metadata": {},
   "source": [
    "Check the maximum point (used in some of the function defs)"
   ]
  },
  {
   "cell_type": "code",
   "execution_count": 4,
   "metadata": {},
   "outputs": [
    {
     "name": "stdout",
     "output_type": "stream",
     "text": [
      "0.82 132.09\n"
     ]
    }
   ],
   "source": [
    "indymax = np.argmax(y_obs)\n",
    "print(x[indymax], y_obs[indymax])"
   ]
  },
  {
   "cell_type": "markdown",
   "metadata": {},
   "source": [
    "# Implement three functions that can be optimized to fit the data\n",
    "\n",
    "## Define piecewise linear function that can be optimized to fit data:"
   ]
  },
  {
   "cell_type": "code",
   "execution_count": 5,
   "metadata": {
    "collapsed": true
   },
   "outputs": [],
   "source": [
    "def pwlin(x, a1, a2, a3, m1, m2, m3, m4):\n",
    "    a0 = 0\n",
    "    \n",
    "    b1 = 100\n",
    "    b2 = b1 + m1*(a1-a0)\n",
    "    b3 = b2 + m2*(a2-a1)\n",
    "    b4 = b3 + m3*(a3-a2)\n",
    "    conds = [              \n",
    "             (x >= a0) & (x < a1), \n",
    "             (x >= a1) & (x < a2), \n",
    "             (x >= a2) & (x < a3),\n",
    "              x >= a3         \n",
    "            ]\n",
    "    funcs = [\n",
    "             lambda x: b1 + m1*(x - a0), \n",
    "             lambda x: b2 + m2*(x - a1), \n",
    "             lambda x: b3 + m3*(x - a2),\n",
    "             lambda x: b4 + m4*(x - a3)\n",
    "            ]\n",
    "    return np.piecewise(x, conds, funcs)"
   ]
  },
  {
   "cell_type": "code",
   "execution_count": 6,
   "metadata": {},
   "outputs": [],
   "source": [
    "from scipy.optimize import curve_fit\n",
    "\n",
    "poptlin, pcovlin = curve_fit(pwlin, x, y_obs, p0 = [1.1,4,15,37,-18,-4,-0.8])"
   ]
  },
  {
   "cell_type": "code",
   "execution_count": 7,
   "metadata": {},
   "outputs": [
    {
     "data": {
      "text/plain": [
       "<function matplotlib.pyplot.show>"
      ]
     },
     "execution_count": 7,
     "metadata": {},
     "output_type": "execute_result"
    },
    {
     "data": {
      "image/png": "[encoded data removed]",
      "text/plain": [
       "<matplotlib.figure.Figure at 0x110282a90>"
      ]
     },
     "metadata": {},
     "output_type": "display_data"
    }
   ],
   "source": [
    "plt.plot(x, y_obs)\n",
    "plt.plot(x, pwlin(x,poptlin[0],poptlin[1],poptlin[2],poptlin[3],poptlin[4],poptlin[5],poptlin[6]), 'r--')\n",
    "plt.show"
   ]
  },
  {
   "cell_type": "markdown",
   "metadata": {},
   "source": [
    "## Define quadratic function to fit the data"
   ]
  },
  {
   "cell_type": "code",
   "execution_count": 8,
   "metadata": {
    "collapsed": true
   },
   "outputs": [],
   "source": [
    "def pw1x(x, m2, c2, b2):\n",
    "    y0 = 100\n",
    "    y1 = 132.09\n",
    "    a0 = 0\n",
    "    a1 = 0.82\n",
    "    \n",
    "    m1 = (y1-y0)/(a1-a0)\n",
    "    \n",
    "    #m2 = max(m2,0.0001)\n",
    "    c2 = max(c2,-a1+0.001)\n",
    "    \n",
    "    conds = [              \n",
    "             (x >= a0) & (x <= a1), \n",
    "              x > a1     \n",
    "            ]\n",
    "    funcs = [\n",
    "             lambda x: y0 + m1*x, \n",
    "             lambda x: y1 + m2/(x + c2)**2 + b2, \n",
    "            ]\n",
    "    return np.piecewise(x, conds, funcs)"
   ]
  },
  {
   "cell_type": "code",
   "execution_count": 9,
   "metadata": {},
   "outputs": [
    {
     "data": {
      "text/plain": [
       "<function matplotlib.pyplot.show>"
      ]
     },
     "execution_count": 9,
     "metadata": {},
     "output_type": "execute_result"
    },
    {
     "data": {
      "image/png": "[encoded data removed]",
      "text/plain": [
       "<matplotlib.figure.Figure at 0x1102e5e80>"
      ]
     },
     "metadata": {},
     "output_type": "display_data"
    }
   ],
   "source": [
    "plt.plot(x, y_obs)\n",
    "plt.plot(x, pw1x(x, 100,2,-15), 'r--')\n",
    "plt.show"
   ]
  },
  {
   "cell_type": "code",
   "execution_count": 10,
   "metadata": {},
   "outputs": [],
   "source": [
    "popt1x, pcov1x = curve_fit(pw1x, x, y_obs, p0 = [100,2,15])"
   ]
  },
  {
   "cell_type": "code",
   "execution_count": 11,
   "metadata": {},
   "outputs": [
    {
     "data": {
      "text/plain": [
       "<function matplotlib.pyplot.show>"
      ]
     },
     "execution_count": 11,
     "metadata": {},
     "output_type": "execute_result"
    },
    {
     "data": {
      "image/png": "[encoded data removed]",
      "text/plain": [
       "<matplotlib.figure.Figure at 0x1103a4d68>"
      ]
     },
     "metadata": {},
     "output_type": "display_data"
    }
   ],
   "source": [
    "plt.plot(x, y_obs)\n",
    "plt.plot(x, pw1x(x,popt1x[0],popt1x[1],popt1x[2]), 'r--')\n",
    "plt.show"
   ]
  },
  {
   "cell_type": "markdown",
   "metadata": {},
   "source": [
    "## Define natural log function to fit the data"
   ]
  },
  {
   "cell_type": "code",
   "execution_count": 12,
   "metadata": {
    "collapsed": true
   },
   "outputs": [],
   "source": [
    "def pwln(x, m2, m3, c2):\n",
    "    y0 = 100\n",
    "    y1 = 132.09\n",
    "    a0 = 0\n",
    "    a1 = 0.82\n",
    "    \n",
    "    m1 = (y1-y0)/(a1-a0)\n",
    "    \n",
    "    b2 = y1\n",
    "    \n",
    "    conds = [              \n",
    "             (x >= a0) & (x <= a1), \n",
    "              x > a1     \n",
    "            ]\n",
    "    funcs = [\n",
    "             lambda x: y0 + m1*x, \n",
    "             lambda x: b2 + m2*np.log(m3*x - c2), \n",
    "            ]\n",
    "    return np.piecewise(x, conds, funcs)"
   ]
  },
  {
   "cell_type": "code",
   "execution_count": 13,
   "metadata": {},
   "outputs": [
    {
     "data": {
      "text/plain": [
       "<function matplotlib.pyplot.show>"
      ]
     },
     "execution_count": 13,
     "metadata": {},
     "output_type": "execute_result"
    },
    {
     "data": {
      "image/png": "[encoded data removed]",
      "text/plain": [
       "<matplotlib.figure.Figure at 0x1104678d0>"
      ]
     },
     "metadata": {},
     "output_type": "display_data"
    }
   ],
   "source": [
    "plt.plot(x, y_obs)\n",
    "plt.plot(x, pwln(x, -40,5,-2), 'r--')\n",
    "plt.show"
   ]
  },
  {
   "cell_type": "code",
   "execution_count": 14,
   "metadata": {},
   "outputs": [],
   "source": [
    "poptln, pcovln = curve_fit(pwln, x, y_obs, p0 = [-40,1,-2])"
   ]
  },
  {
   "cell_type": "markdown",
   "metadata": {},
   "source": [
    "## Visually test all three functions"
   ]
  },
  {
   "cell_type": "code",
   "execution_count": 15,
   "metadata": {},
   "outputs": [
    {
     "data": {
      "text/plain": [
       "<function matplotlib.pyplot.show>"
      ]
     },
     "execution_count": 15,
     "metadata": {},
     "output_type": "execute_result"
    },
    {
     "data": {
      "image/png": "[encoded data removed]",
      "text/plain": [
       "<matplotlib.figure.Figure at 0x110535630>"
      ]
     },
     "metadata": {},
     "output_type": "display_data"
    }
   ],
   "source": [
    "plt.plot(x, y_obs, 'black')\n",
    "plt.plot(x, pwlin(x,poptlin[0],poptlin[1],poptlin[2],poptlin[3],poptlin[4],poptlin[5],poptlin[6]), 'g--')\n",
    "plt.plot(x, pwln(x, poptln[0], poptln[1], poptln[2]), 'r-.')\n",
    "plt.plot(x, pw1x(x, popt1x[0], popt1x[1], popt1x[2]), 'b:')\n",
    "plt.show"
   ]
  },
  {
   "cell_type": "markdown",
   "metadata": {},
   "source": [
    "The quadratic function appears to perform best, which can be confirmed quantitatively:"
   ]
  },
  {
   "cell_type": "code",
   "execution_count": 16,
   "metadata": {},
   "outputs": [
    {
     "name": "stdout",
     "output_type": "stream",
     "text": [
      "MAE for piecewise quadratic function:  1.61\n",
      "MAE for piecewise linear function:  1.75\n",
      "MAE for piecewise natural log function:  3.3\n"
     ]
    }
   ],
   "source": [
    "maelin = np.mean(abs(y_obs - pwlin(x,poptlin[0],poptlin[1],poptlin[2],poptlin[3],poptlin[4],poptlin[5],poptlin[6])))\n",
    "maeln = np.mean(abs(y_obs - pwln(x, poptln[0], poptln[1], poptln[2])))\n",
    "mae1x = np.mean(abs(y_obs - pw1x(x, popt1x[0], popt1x[1], popt1x[2])))\n",
    "\n",
    "print('MAE for piecewise quadratic function: ', np.around(mae1x,2))\n",
    "print('MAE for piecewise linear function: ', np.around(maelin,2))\n",
    "print('MAE for piecewise natural log function: ', np.around(maeln,2))"
   ]
  },
  {
   "cell_type": "markdown",
   "metadata": {},
   "source": [
    "The optimized parameters for the quadratic function are:"
   ]
  },
  {
   "cell_type": "code",
   "execution_count": 17,
   "metadata": {},
   "outputs": [
    {
     "data": {
      "text/plain": [
       "array([ 6375.15046863,     6.46889438,  -117.65100993])"
      ]
     },
     "execution_count": 17,
     "metadata": {},
     "output_type": "execute_result"
    }
   ],
   "source": [
    "popt1x"
   ]
  },
  {
   "cell_type": "code",
   "execution_count": null,
   "metadata": {
    "collapsed": true
   },
   "outputs": [],
   "source": []
  }
 ],
 "metadata": {
  "kernelspec": {
   "display_name": "Python 3",
   "language": "python",
   "name": "python3"
  },
  "language_info": {
   "codemirror_mode": {
    "name": "ipython",
    "version": 3
   },
   "file_extension": ".py",
   "mimetype": "text/x-python",
   "name": "python",
   "nbconvert_exporter": "python",
   "pygments_lexer": "ipython3",
   "version": "3.6.3"
  }
 },
 "nbformat": 4,
 "nbformat_minor": 2
}
